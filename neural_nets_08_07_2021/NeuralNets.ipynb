{
 "cells": [
  {
   "cell_type": "code",
   "execution_count": 1,
   "id": "d59709e5",
   "metadata": {
    "tags": []
   },
   "outputs": [
    {
     "name": "stdout",
     "output_type": "stream",
     "text": [
      "Get:1 http://security.ubuntu.com/ubuntu focal-security InRelease [114 kB]\n",
      "Get:2 http://archive.ubuntu.com/ubuntu focal InRelease [265 kB]\n",
      "Get:3 http://security.ubuntu.com/ubuntu focal-security/main amd64 Packages [1,135 kB]\n",
      "Get:4 http://archive.ubuntu.com/ubuntu focal-updates InRelease [114 kB]\u001b[33m\n",
      "Get:5 http://security.ubuntu.com/ubuntu focal-security/universe amd64 Packages [796 kB]\n",
      "Get:6 http://archive.ubuntu.com/ubuntu focal-backports InRelease [101 kB]\n",
      "Get:7 http://security.ubuntu.com/ubuntu focal-security/restricted amd64 Packages [581 kB]\n",
      "Get:8 http://security.ubuntu.com/ubuntu focal-security/multiverse amd64 Packages [30.1 kB]\n",
      "Get:9 http://archive.ubuntu.com/ubuntu focal/main amd64 Packages [1,275 kB]    \u001b[0m\u001b[33m\n",
      "Get:10 http://archive.ubuntu.com/ubuntu focal/universe amd64 Packages [11.3 MB]\n",
      "Get:11 http://archive.ubuntu.com/ubuntu focal/restricted amd64 Packages [33.4 kB]\n",
      "Get:12 http://archive.ubuntu.com/ubuntu focal/multiverse amd64 Packages [177 kB]\n",
      "Get:13 http://archive.ubuntu.com/ubuntu focal-updates/restricted amd64 Packages [632 kB]\n",
      "Get:14 http://archive.ubuntu.com/ubuntu focal-updates/multiverse amd64 Packages [33.3 kB]\n",
      "Get:15 http://archive.ubuntu.com/ubuntu focal-updates/universe amd64 Packages [1,083 kB]\n",
      "Get:16 http://archive.ubuntu.com/ubuntu focal-updates/main amd64 Packages [1,582 kB]\n",
      "Get:17 http://archive.ubuntu.com/ubuntu focal-backports/universe amd64 Packages [6,310 B]\n",
      "Get:18 http://archive.ubuntu.com/ubuntu focal-backports/main amd64 Packages [2,668 B]\n",
      "Fetched 19.3 MB in 4s (4,572 kB/s)3m                    \u001b[0m\u001b[33m\u001b[33m\u001b[33m\u001b[33m\u001b[33m\u001b[33m\n",
      "Reading package lists... Done\n",
      "Building dependency tree       \n",
      "Reading state information... Done\n",
      "55 packages can be upgraded. Run 'apt list --upgradable' to see them.\n",
      "Reading package lists... Done\n",
      "Building dependency tree       \n",
      "Reading state information... Done\n",
      "The following additional packages will be installed:\n",
      "  libann0 libcdt5 libcgraph6 libgts-0.7-5 libgts-bin libgvc6 libgvpr2\n",
      "  liblab-gamut1 libpathplan4\n",
      "Suggested packages:\n",
      "  gsfonts graphviz-doc\n",
      "The following NEW packages will be installed:\n",
      "  graphviz libann0 libcdt5 libcgraph6 libgts-0.7-5 libgts-bin libgvc6 libgvpr2\n",
      "  liblab-gamut1 libpathplan4\n",
      "0 upgraded, 10 newly installed, 0 to remove and 55 not upgraded.\n",
      "Need to get 1,880 kB of archives.\n",
      "After this operation, 9,205 kB of additional disk space will be used.\n",
      "Get:1 http://archive.ubuntu.com/ubuntu focal/universe amd64 libann0 amd64 1.1.2+doc-7build1 [26.0 kB]\n",
      "Get:2 http://archive.ubuntu.com/ubuntu focal/universe amd64 libcdt5 amd64 2.42.2-3build2 [18.7 kB]\n",
      "Get:3 http://archive.ubuntu.com/ubuntu focal/universe amd64 libcgraph6 amd64 2.42.2-3build2 [41.3 kB]\n",
      "Get:4 http://archive.ubuntu.com/ubuntu focal/universe amd64 libgts-0.7-5 amd64 0.7.6+darcs121130-4 [150 kB]\n",
      "Get:5 http://archive.ubuntu.com/ubuntu focal/universe amd64 libpathplan4 amd64 2.42.2-3build2 [21.9 kB]\n",
      "Get:6 http://archive.ubuntu.com/ubuntu focal/universe amd64 libgvc6 amd64 2.42.2-3build2 [647 kB]\n",
      "Get:7 http://archive.ubuntu.com/ubuntu focal/universe amd64 libgvpr2 amd64 2.42.2-3build2 [167 kB]\n",
      "Get:8 http://archive.ubuntu.com/ubuntu focal/universe amd64 liblab-gamut1 amd64 2.42.2-3build2 [177 kB]\n",
      "Get:9 http://archive.ubuntu.com/ubuntu focal/universe amd64 graphviz amd64 2.42.2-3build2 [590 kB]\n",
      "Get:10 http://archive.ubuntu.com/ubuntu focal/universe amd64 libgts-bin amd64 0.7.6+darcs121130-4 [41.3 kB]\n",
      "Fetched 1,880 kB in 2s (1,184 kB/s)     \u001b[0m\u001b[33m\n",
      "debconf: delaying package configuration, since apt-utils is not installed\n",
      "\n",
      "\u001b7\u001b[0;23r\u001b8\u001b[1ASelecting previously unselected package libann0.\n",
      "(Reading database ... 60637 files and directories currently installed.)\n",
      "Preparing to unpack .../0-libann0_1.1.2+doc-7build1_amd64.deb ...\n",
      "\u001b7\u001b[24;0f\u001b[42m\u001b[30mProgress: [  0%]\u001b[49m\u001b[39m [..........................................................] \u001b8\u001b7\u001b[24;0f\u001b[42m\u001b[30mProgress: [  2%]\u001b[49m\u001b[39m [#.........................................................] \u001b8Unpacking libann0 (1.1.2+doc-7build1) ...\n",
      "\u001b7\u001b[24;0f\u001b[42m\u001b[30mProgress: [  5%]\u001b[49m\u001b[39m [##........................................................] \u001b8Selecting previously unselected package libcdt5:amd64.\n",
      "Preparing to unpack .../1-libcdt5_2.42.2-3build2_amd64.deb ...\n",
      "\u001b7\u001b[24;0f\u001b[42m\u001b[30mProgress: [  7%]\u001b[49m\u001b[39m [####......................................................] \u001b8Unpacking libcdt5:amd64 (2.42.2-3build2) ...\n",
      "\u001b7\u001b[24;0f\u001b[42m\u001b[30mProgress: [ 10%]\u001b[49m\u001b[39m [#####.....................................................] \u001b8Selecting previously unselected package libcgraph6:amd64.\n",
      "Preparing to unpack .../2-libcgraph6_2.42.2-3build2_amd64.deb ...\n",
      "\u001b7\u001b[24;0f\u001b[42m\u001b[30mProgress: [ 12%]\u001b[49m\u001b[39m [#######...................................................] \u001b8Unpacking libcgraph6:amd64 (2.42.2-3build2) ...\n",
      "\u001b7\u001b[24;0f\u001b[42m\u001b[30mProgress: [ 15%]\u001b[49m\u001b[39m [########..................................................] \u001b8Selecting previously unselected package libgts-0.7-5:amd64.\n",
      "Preparing to unpack .../3-libgts-0.7-5_0.7.6+darcs121130-4_amd64.deb ...\n",
      "\u001b7\u001b[24;0f\u001b[42m\u001b[30mProgress: [ 17%]\u001b[49m\u001b[39m [#########.................................................] \u001b8Unpacking libgts-0.7-5:amd64 (0.7.6+darcs121130-4) ...\n",
      "\u001b7\u001b[24;0f\u001b[42m\u001b[30mProgress: [ 20%]\u001b[49m\u001b[39m [###########...............................................] \u001b8Selecting previously unselected package libpathplan4:amd64.\n",
      "Preparing to unpack .../4-libpathplan4_2.42.2-3build2_amd64.deb ...\n",
      "\u001b7\u001b[24;0f\u001b[42m\u001b[30mProgress: [ 22%]\u001b[49m\u001b[39m [############..............................................] \u001b8Unpacking libpathplan4:amd64 (2.42.2-3build2) ...\n",
      "\u001b7\u001b[24;0f\u001b[42m\u001b[30mProgress: [ 24%]\u001b[49m\u001b[39m [##############............................................] \u001b8Selecting previously unselected package libgvc6.\n",
      "Preparing to unpack .../5-libgvc6_2.42.2-3build2_amd64.deb ...\n",
      "\u001b7\u001b[24;0f\u001b[42m\u001b[30mProgress: [ 27%]\u001b[49m\u001b[39m [###############...........................................] \u001b8Unpacking libgvc6 (2.42.2-3build2) ...\n",
      "\u001b7\u001b[24;0f\u001b[42m\u001b[30mProgress: [ 29%]\u001b[49m\u001b[39m [################..........................................] \u001b8Selecting previously unselected package libgvpr2:amd64.\n",
      "Preparing to unpack .../6-libgvpr2_2.42.2-3build2_amd64.deb ...\n",
      "\u001b7\u001b[24;0f\u001b[42m\u001b[30mProgress: [ 32%]\u001b[49m\u001b[39m [##################........................................] \u001b8Unpacking libgvpr2:amd64 (2.42.2-3build2) ...\n",
      "\u001b7\u001b[24;0f\u001b[42m\u001b[30mProgress: [ 34%]\u001b[49m\u001b[39m [###################.......................................] \u001b8Selecting previously unselected package liblab-gamut1:amd64.\n",
      "Preparing to unpack .../7-liblab-gamut1_2.42.2-3build2_amd64.deb ...\n",
      "\u001b7\u001b[24;0f\u001b[42m\u001b[30mProgress: [ 37%]\u001b[49m\u001b[39m [#####################.....................................] \u001b8Unpacking liblab-gamut1:amd64 (2.42.2-3build2) ...\n",
      "\u001b7\u001b[24;0f\u001b[42m\u001b[30mProgress: [ 39%]\u001b[49m\u001b[39m [######################....................................] \u001b8Selecting previously unselected package graphviz.\n",
      "Preparing to unpack .../8-graphviz_2.42.2-3build2_amd64.deb ...\n",
      "\u001b7\u001b[24;0f\u001b[42m\u001b[30mProgress: [ 41%]\u001b[49m\u001b[39m [########################..................................] \u001b8Unpacking graphviz (2.42.2-3build2) ...\n",
      "\u001b7\u001b[24;0f\u001b[42m\u001b[30mProgress: [ 44%]\u001b[49m\u001b[39m [#########################.................................] \u001b8Selecting previously unselected package libgts-bin.\n",
      "Preparing to unpack .../9-libgts-bin_0.7.6+darcs121130-4_amd64.deb ...\n",
      "\u001b7\u001b[24;0f\u001b[42m\u001b[30mProgress: [ 46%]\u001b[49m\u001b[39m [##########################................................] \u001b8Unpacking libgts-bin (0.7.6+darcs121130-4) ...\n",
      "\u001b7\u001b[24;0f\u001b[42m\u001b[30mProgress: [ 49%]\u001b[49m\u001b[39m [############################..............................] \u001b8Setting up liblab-gamut1:amd64 (2.42.2-3build2) ...\n",
      "\u001b7\u001b[24;0f\u001b[42m\u001b[30mProgress: [ 51%]\u001b[49m\u001b[39m [#############################.............................] \u001b8\u001b7\u001b[24;0f\u001b[42m\u001b[30mProgress: [ 54%]\u001b[49m\u001b[39m [###############################...........................] \u001b8Setting up libgts-0.7-5:amd64 (0.7.6+darcs121130-4) ...\n",
      "\u001b7\u001b[24;0f\u001b[42m\u001b[30mProgress: [ 56%]\u001b[49m\u001b[39m [################################..........................] \u001b8\u001b7\u001b[24;0f\u001b[42m\u001b[30mProgress: [ 59%]\u001b[49m\u001b[39m [#################################.........................] \u001b8Setting up libpathplan4:amd64 (2.42.2-3build2) ...\n",
      "\u001b7\u001b[24;0f\u001b[42m\u001b[30mProgress: [ 61%]\u001b[49m\u001b[39m [###################################.......................] \u001b8\u001b7\u001b[24;0f\u001b[42m\u001b[30mProgress: [ 63%]\u001b[49m\u001b[39m [####################################......................] \u001b8Setting up libann0 (1.1.2+doc-7build1) ...\n",
      "\u001b7\u001b[24;0f\u001b[42m\u001b[30mProgress: [ 66%]\u001b[49m\u001b[39m [######################################....................] \u001b8\u001b7\u001b[24;0f\u001b[42m\u001b[30mProgress: [ 68%]\u001b[49m\u001b[39m [#######################################...................] \u001b8Setting up libcdt5:amd64 (2.42.2-3build2) ...\n",
      "\u001b7\u001b[24;0f\u001b[42m\u001b[30mProgress: [ 71%]\u001b[49m\u001b[39m [#########################################.................] \u001b8\u001b7\u001b[24;0f\u001b[42m\u001b[30mProgress: [ 73%]\u001b[49m\u001b[39m [##########################################................] \u001b8Setting up libcgraph6:amd64 (2.42.2-3build2) ...\n",
      "\u001b7\u001b[24;0f\u001b[42m\u001b[30mProgress: [ 76%]\u001b[49m\u001b[39m [###########################################...............] \u001b8\u001b7\u001b[24;0f\u001b[42m\u001b[30mProgress: [ 78%]\u001b[49m\u001b[39m [#############################################.............] \u001b8Setting up libgts-bin (0.7.6+darcs121130-4) ...\n",
      "\u001b7\u001b[24;0f\u001b[42m\u001b[30mProgress: [ 80%]\u001b[49m\u001b[39m [##############################################............] \u001b8\u001b7\u001b[24;0f\u001b[42m\u001b[30mProgress: [ 83%]\u001b[49m\u001b[39m [################################################..........] \u001b8Setting up libgvc6 (2.42.2-3build2) ...\n",
      "\u001b7\u001b[24;0f\u001b[42m\u001b[30mProgress: [ 85%]\u001b[49m\u001b[39m [#################################################.........] \u001b8\u001b7\u001b[24;0f\u001b[42m\u001b[30mProgress: [ 88%]\u001b[49m\u001b[39m [##################################################........] \u001b8Setting up libgvpr2:amd64 (2.42.2-3build2) ...\n",
      "\u001b7\u001b[24;0f\u001b[42m\u001b[30mProgress: [ 90%]\u001b[49m\u001b[39m [####################################################......] \u001b8\u001b7\u001b[24;0f\u001b[42m\u001b[30mProgress: [ 93%]\u001b[49m\u001b[39m [#####################################################.....] \u001b8Setting up graphviz (2.42.2-3build2) ...\n",
      "\u001b7\u001b[24;0f\u001b[42m\u001b[30mProgress: [ 95%]\u001b[49m\u001b[39m [#######################################################...] \u001b8\u001b7\u001b[24;0f\u001b[42m\u001b[30mProgress: [ 98%]\u001b[49m\u001b[39m [########################################################..] \u001b8Processing triggers for libc-bin (2.31-0ubuntu9.2) ...\n",
      "\n",
      "\u001b7\u001b[0;24r\u001b8\u001b[1A\u001b[JCollecting graphviz\n",
      "  Downloading graphviz-0.17-py3-none-any.whl (18 kB)\n",
      "Installing collected packages: graphviz\n",
      "Successfully installed graphviz-0.17\n"
     ]
    }
   ],
   "source": [
    "!sudo apt update && sudo apt install -y graphviz\n",
    "!pip install graphviz"
   ]
  },
  {
   "cell_type": "code",
   "execution_count": 14,
   "id": "0178208c",
   "metadata": {
    "tags": []
   },
   "outputs": [],
   "source": [
    "from __future__ import annotations\n",
    "from abc import ABC, abstractmethod\n",
    "from typing import List, Dict\n",
    "from contextlib import contextmanager\n",
    "from queue import Queue\n",
    "from dataclasses import dataclass, field\n",
    "from collections import defaultdict\n",
    "import random\n",
    "import time\n",
    "import math\n",
    "\n",
    "\n",
    "import numpy as np\n",
    "from matplotlib import pyplot as plt\n",
    "from graphviz import Digraph\n",
    "\n",
    "random.seed(0)\n",
    "%matplotlib inline"
   ]
  },
  {
   "cell_type": "code",
   "execution_count": 15,
   "id": "e82231dc",
   "metadata": {
    "tags": []
   },
   "outputs": [],
   "source": [
    "class Neuron(ABC):\n",
    "    \"\"\"\n",
    "    An abstract definition for a Neuron. A neuron has inputs and outputs,\n",
    "    which are in turn also Neurons. Together they form a \"Neural Network\".\n",
    "    \"\"\"\n",
    "    \n",
    "    def __init__(self, name: str = \"no name\"):\n",
    "        self.name = name\n",
    "        self._inputs: List[Neuron] = list()\n",
    "        self._outputs: List[Neuron] = list()\n",
    "    \n",
    "    @property\n",
    "    def inputs(self):\n",
    "        return self._inputs\n",
    "    \n",
    "    def reset(self):\n",
    "        ...\n",
    "    \n",
    "    @property\n",
    "    def outputs(self):\n",
    "        return self._outputs\n",
    "    \n",
    "    def add_input(self, n: Neuron):\n",
    "        self._inputs.append(n)\n",
    "        \n",
    "    def add_output(self, n: Neuron):\n",
    "        self._outputs.append(n)\n",
    "    \n",
    "    @abstractmethod\n",
    "    def forward_pass(self, state: ForwardPassState) -> float:\n",
    "        ...\n",
    "        \n",
    "    @abstractmethod\n",
    "    def backwards_pass(self, state: BackwardsPassState, f_state: ForwardPassState) -> None:\n",
    "        ...\n",
    "        \n",
    "    def __rshift__(self, other: Neuron) -> Neuron:\n",
    "        other.add_input(self)\n",
    "        self.add_output(other)\n",
    "    \n",
    "    def __repr__(self):\n",
    "        return self.name\n",
    "    "
   ]
  },
  {
   "cell_type": "code",
   "execution_count": 16,
   "id": "c40c08b8",
   "metadata": {
    "tags": []
   },
   "outputs": [],
   "source": [
    "class Loss(ABC):\n",
    "    \"\"\"\n",
    "    Interface for an error function. The error is the measure of how wrong we are,\n",
    "    the loss is the direction (and magnitude) in which we should move to correct our current model;.\n",
    "    \"\"\"\n",
    "    \n",
    "    def __init__(self, name: str):\n",
    "        self.name = name\n",
    "    \n",
    "    @abstractmethod\n",
    "    def error(self, predicted: float, actual: float) -> float:\n",
    "        ...\n",
    "            \n",
    "    @abstractmethod\n",
    "    def loss(self, predicted: float, actual: float) -> float:\n",
    "        ...\n",
    "        \n",
    "    def __repr__(self) -> str:\n",
    "        return self.name\n",
    "    \n",
    "\n",
    "class SquaredLoss(Loss):\n",
    "    def __init__(self):\n",
    "        super().__init__(\"squared_loss\")\n",
    "        \n",
    "    def error(self, predicted: float, actual: float) -> float:\n",
    "\n",
    "        # Squared error (SE) defined as: E = (y-y')^2\n",
    "        return (actual-predicted)**2\n",
    "            \n",
    "    def loss(self, predicted: float, actual: float) -> float:\n",
    "        # Derivative of E with respect to predicted\n",
    "        # E = (y-y')^2\n",
    "        # DE/Dy' = -2(y-y')\n",
    "        return -2*(actual - predicted)"
   ]
  },
  {
   "cell_type": "code",
   "execution_count": 17,
   "id": "a65030c1",
   "metadata": {
    "tags": []
   },
   "outputs": [],
   "source": [
    "class Input(Neuron):\n",
    "    \"\"\"\n",
    "    Mostly useless Neuron that just holds the input data   \n",
    "    \"\"\"\n",
    "    def __init__(self):\n",
    "        super().__init__(\"input\")\n",
    "        \n",
    "    def forward_pass(self, state: ForwardPassState) -> float:\n",
    "        return state.activations[self]\n",
    "        \n",
    "    def backwards_pass(self, state: BackwardsPassState, f_state: ForwardPassState) -> None:\n",
    "        ...\n",
    "    \n",
    "\n",
    "class HiddenLayer(Neuron):\n",
    "    \"\"\"\n",
    "    This is the important part of the puzzle, this is our linear classifier.\n",
    "    It learns a linear function y = Wx + b\n",
    "    y's are stored in self._weights, and b's are stored in self._biases\n",
    "    \n",
    "    There are multiple weights and biases in case this Neuron has multiple inputs.\n",
    "    \"\"\"\n",
    "    def __init__(self, name: str):\n",
    "        super().__init__(name)\n",
    "        self._weights: Dict[Neuron, float] = dict()\n",
    "        self._biases: Dict[Neuron, float] = dict()\n",
    "        \n",
    "    def add_input(self, n: Neuron):\n",
    "        super().add_input(n)\n",
    "        self._weights[n] = None\n",
    "        self._biases[n] = 0.\n",
    "        self.initialize_weights()\n",
    "        \n",
    "    def reset(self):\n",
    "        self.initialize_weights()\n",
    "        \n",
    "    def initialize_weights(self):\n",
    "        \"\"\"\n",
    "        There are many strategies for intializing weights randomly, mostly black magic.\n",
    "        Lots of resources on this online, look for \"weight initialization in deep learning\"\n",
    "        \"\"\"\n",
    "        std = math.sqrt(2.0 / len(self._weights))\n",
    "        for k in self._weights.keys():\n",
    "            self._weights[k] = np.random.randn() * std\n",
    "        \n",
    "    def forward_pass(self, state: ForwardPassState) -> float:\n",
    "        \"\"\"\n",
    "        The forward pass is essentially our current belief of the world, \n",
    "        given an input this function predicts an output based on the current knowledge (weights and biases).\n",
    "        So in effect this just runs y = Wx + b.\n",
    "        \n",
    "        The input values to this neuron are stored in state.activations, so those are the inputs\n",
    "        \"\"\"\n",
    "        return np.sum([\n",
    "            state.activations[i] * self._weights[i] + self._biases[i]\n",
    "            for i in self._inputs\n",
    "        ])\n",
    "        \n",
    "    def backwards_pass(self, state: BackwardsPassState, f_state: ForwardPassState) -> None:\n",
    "        incomming_loss = state.losses[self]\n",
    "        \n",
    "        # send loss back to incoming connections\n",
    "        for i in self.inputs:\n",
    "             \n",
    "            # backpropagate to inputs\n",
    "            state.losses[i] = self._weights[i] * incomming_loss\n",
    "            \n",
    "            \n",
    "            # backpropagate to weights\n",
    "            # here we update the weights based on the \"loss\" we are receiving from upstream neurons.\n",
    "            # We multiply the current inputs (activations) by the loss because of the derivative of our function:\n",
    "            \n",
    "            # y = Wx + b\n",
    "            # Dy/Dw = x\n",
    "            # so we scale the loss by x\n",
    "            \n",
    "            self._weights[i] -= state.learning_rate * (f_state.activations[i] * incomming_loss + state.regularization * self._weights[i])\n",
    "            \n",
    "            \n",
    "            # backpropagate to biases\n",
    "            # here, we take the derivative with respect to the bias\n",
    "            # Dy/Db = 1, so we scale by 1 (don't need to write code for that)\n",
    "            self._biases[i] -= state.learning_rate * incomming_loss     "
   ]
  },
  {
   "cell_type": "code",
   "execution_count": 18,
   "id": "b4882d0e",
   "metadata": {
    "tags": []
   },
   "outputs": [],
   "source": [
    "@dataclass\n",
    "class ForwardPassState:\n",
    "    activations: Dict[Neuron, float] = field(default_factory=dict)\n",
    "          \n",
    "                  \n",
    "@dataclass\n",
    "class BackwardPassState:\n",
    "    learning_rate: float\n",
    "    regularization: float\n",
    "    losses: Dict[Neuron, float] = field(default_factory=dict)"
   ]
  },
  {
   "cell_type": "code",
   "execution_count": 19,
   "id": "d3ab4c79",
   "metadata": {
    "tags": []
   },
   "outputs": [],
   "source": [
    "class Normalizer:\n",
    "    \"\"\"\n",
    "    Making sure data is normalized in a 0-1 range is helpful for neural nets to converge during learning\n",
    "    \"\"\"\n",
    "    \n",
    "    def __init__(self):\n",
    "        self.maximum = None\n",
    "    \n",
    "    def learn(self, values):\n",
    "        self.maximum = np.max(values)\n",
    "\n",
    "    def to_norm(self, values):\n",
    "        return np.divide(values, self.maximum)\n",
    "    \n",
    "    def from_norm(self, values):\n",
    "        return np.multiply(values, self.maximum)"
   ]
  },
  {
   "cell_type": "code",
   "execution_count": 20,
   "id": "288b89f1",
   "metadata": {
    "tags": []
   },
   "outputs": [],
   "source": [
    "@dataclass\n",
    "class Model:\n",
    "    \"\"\"\n",
    "    Model class brings it all together by implementing the main learning loop\n",
    "    \"\"\"\n",
    "    \n",
    "    input_layer: Neuron\n",
    "    output_layer: Neuron\n",
    "    loss: Loss\n",
    "    \n",
    "    @staticmethod\n",
    "    def breadth_first_search(root: Neuron):\n",
    "        \"\"\"\n",
    "        Breadth first search is useful for processing the neurons in the right order layer-by-layer\n",
    "        \"\"\"\n",
    "        processed = set()\n",
    "        queue = Queue()\n",
    "        queue.put(root)\n",
    "        while not queue.empty():\n",
    "            item: Neuron = queue.get()\n",
    "            for output in item.outputs:\n",
    "                queue.put(output)\n",
    "            if item not in processed:\n",
    "                yield item\n",
    "            processed.add(item)\n",
    "    \n",
    "    def reset(self):\n",
    "        for node in self.breadth_first_search(self.input_layer):\n",
    "            node.reset()\n",
    "    \n",
    "    def avg_error(self, xs, ys):\n",
    "        errors = []\n",
    "        for i in range(0, len(xs)):\n",
    "            f_state = self.run_forward_pass(self.input_layer, xs[i])\n",
    "            error = self.loss.error(f_state.activations[self.output_layer], ys[i])\n",
    "            errors.append(error)\n",
    "        return np.mean(errors)\n",
    "            \n",
    "    def predict(self, xs):\n",
    "        results = []\n",
    "        for x in xs:\n",
    "            f_state = self.run_forward_pass(self.input_layer, x)\n",
    "            results.append(f_state.activations[self.output_layer])\n",
    "        return results\n",
    "    \n",
    "    def run_forward_pass(self, i: Input, x: float) -> Dict:\n",
    "        \"\"\"\n",
    "        Step 1 of learning, apply our belief to the input\n",
    "        \"\"\"\n",
    "        state = ForwardPassState()\n",
    "        state.activations[i] = x\n",
    "        for node in self.breadth_first_search(i):\n",
    "            output = node.forward_pass(state)\n",
    "            state.activations[node] = output\n",
    "        return state\n",
    "\n",
    "    def run_backward_pass(self, i: Input, loss: Neuron, forward_state: ForwardPassState, learning_rate: float, regularization: float):\n",
    "        \"\"\"\n",
    "        Step 3 of learning, backpropagate the loss to all the neurons and update their beliefs\n",
    "        \"\"\"\n",
    "        state = BackwardPassState(learning_rate=learning_rate, regularization=regularization)\n",
    "        nodes = list(reversed(list(self.breadth_first_search(i))))\n",
    "        state.losses[nodes[0]] = loss\n",
    "        for node in nodes:\n",
    "            node.backwards_pass(state, forward_state)\n",
    "        return state\n",
    "    \n",
    "    def learn(self, xs, ys, iterations=1000, learning_rate=.001, regularization=0.01):\n",
    "        \"\"\"\n",
    "        The main learning loop, this is where all the magic happens :)\n",
    "        \"\"\"\n",
    "        nodes = list(self.breadth_first_search(self.input_layer))\n",
    "        for i in range(0, iterations):\n",
    "            data_index = i % len(xs)\n",
    "            x = xs[data_index]\n",
    "            y = ys[data_index]\n",
    "\n",
    "            f_state = self.run_forward_pass(self.input_layer, x)\n",
    "            loss = self.loss.loss(f_state.activations[self.output_layer], y)\n",
    "            b_state = self.run_backward_pass(self.input_layer, loss, f_state, learning_rate=learning_rate, regularization=regularization)\n",
    "            \n",
    "    def dot(self):\n",
    "        dot = Digraph()\n",
    "        for node in reversed(list(self.breadth_first_search(i))):\n",
    "            dot.node(name=str(node), label=str(node))\n",
    "            for output in node.outputs:\n",
    "                dot.edge(str(node), str(output))\n",
    "        return dot\n",
    "            "
   ]
  },
  {
   "cell_type": "code",
   "execution_count": 21,
   "id": "e2f7cf6d",
   "metadata": {
    "tags": []
   },
   "outputs": [
    {
     "data": {
      "image/png": "[encoded data removed]",
      "text/plain": [
       "<Figure size 432x288 with 1 Axes>"
      ]
     },
     "metadata": {
      "needs_background": "light"
     },
     "output_type": "display_data"
    }
   ],
   "source": [
    "xs = np.array([1, 2, 3, 4, 5, 6, 7, 8, 9, 10])\n",
    "ys = [5*i + 5 for i in xs] + np.random.normal(0, 2, xs.shape)\n",
    "plt.plot(xs, ys)\n",
    "plt.show()\n",
    "\n",
    "\n",
    "x_norm = Normalizer()\n",
    "x_norm.learn(xs)\n",
    "y_norm = Normalizer()\n",
    "y_norm.learn(ys)\n",
    "\n",
    "n_xs = x_norm.to_norm(xs)\n",
    "n_ys = y_norm.to_norm(ys)"
   ]
  },
  {
   "cell_type": "code",
   "execution_count": 22,
   "id": "3de76ce1",
   "metadata": {
    "tags": []
   },
   "outputs": [
    {
     "data": {
      "image/svg+xml": [
       "<?xml version=\"1.0\" encoding=\"UTF-8\" standalone=\"no\"?>\n",
       "<!DOCTYPE svg PUBLIC \"-//W3C//DTD SVG 1.1//EN\"\n",
       " \"http://www.w3.org/Graphics/SVG/1.1/DTD/svg11.dtd\">\n",
       "<!-- Generated by graphviz version 2.43.0 (0)\n",
       " -->\n",
       "<!-- Title: %3 Pages: 1 -->\n",
       "<svg width=\"78pt\" height=\"116pt\"\n",
       " viewBox=\"0.00 0.00 78.19 116.00\" xmlns=\"http://www.w3.org/2000/svg\" xmlns:xlink=\"http://www.w3.org/1999/xlink\">\n",
       "<g id=\"graph0\" class=\"graph\" transform=\"scale(1 1) rotate(0) translate(4 112)\">\n",
       "<title>%3</title>\n",
       "<polygon fill=\"white\" stroke=\"transparent\" points=\"-4,4 -4,-112 74.19,-112 74.19,4 -4,4\"/>\n",
       "<!-- h1 -->\n",
       "<g id=\"node1\" class=\"node\">\n",
       "<title>h1</title>\n",
       "<ellipse fill=\"none\" stroke=\"black\" cx=\"35.1\" cy=\"-18\" rx=\"27\" ry=\"18\"/>\n",
       "<text text-anchor=\"middle\" x=\"35.1\" y=\"-14.3\" font-family=\"Times,serif\" font-size=\"14.00\">h1</text>\n",
       "</g>\n",
       "<!-- input -->\n",
       "<g id=\"node2\" class=\"node\">\n",
       "<title>input</title>\n",
       "<ellipse fill=\"none\" stroke=\"black\" cx=\"35.1\" cy=\"-90\" rx=\"35.19\" ry=\"18\"/>\n",
       "<text text-anchor=\"middle\" x=\"35.1\" y=\"-86.3\" font-family=\"Times,serif\" font-size=\"14.00\">input</text>\n",
       "</g>\n",
       "<!-- input&#45;&gt;h1 -->\n",
       "<g id=\"edge1\" class=\"edge\">\n",
       "<title>input&#45;&gt;h1</title>\n",
       "<path fill=\"none\" stroke=\"black\" d=\"M35.1,-71.7C35.1,-63.98 35.1,-54.71 35.1,-46.11\"/>\n",
       "<polygon fill=\"black\" stroke=\"black\" points=\"38.6,-46.1 35.1,-36.1 31.6,-46.1 38.6,-46.1\"/>\n",
       "</g>\n",
       "</g>\n",
       "</svg>\n"
      ],
      "text/plain": [
       "<graphviz.dot.Digraph at 0x7f13fc63d7c0>"
      ]
     },
     "execution_count": 22,
     "metadata": {},
     "output_type": "execute_result"
    }
   ],
   "source": [
    "# Simple Linear Examples (1 Neuron)\n",
    "\n",
    "i = Input()\n",
    "h1 = HiddenLayer(\"h1\")\n",
    "i >> h1\n",
    "\n",
    "loss = SquaredLoss()\n",
    "\n",
    "m = Model(i, h1, loss)\n",
    "m.dot()"
   ]
  },
  {
   "cell_type": "code",
   "execution_count": 23,
   "id": "ff958b64-0abb-4c74-935b-f8c4686167f3",
   "metadata": {
    "tags": []
   },
   "outputs": [
    {
     "data": {
      "image/png": "[encoded data removed]",
      "text/plain": [
       "<Figure size 432x288 with 1 Axes>"
      ]
     },
     "metadata": {
      "needs_background": "light"
     },
     "output_type": "display_data"
    },
    {
     "name": "stdout",
     "output_type": "stream",
     "text": [
      "{input: 0.9113465354706737}\n",
      "{input: 0.099935823156353}\n"
     ]
    }
   ],
   "source": [
    "m.reset()\n",
    "m.learn(n_xs, n_ys, iterations=10000, learning_rate=.01, regularization=0.0001)\n",
    "\n",
    "# plot predictions\n",
    "predictions = y_norm.from_norm(m.predict(n_xs))\n",
    "plt.plot(xs, ys)\n",
    "plt.plot(xs, predictions)\n",
    "plt.show()\n",
    "\n",
    "print(h1._weights)\n",
    "print(h1._biases)"
   ]
  },
  {
   "cell_type": "code",
   "execution_count": 24,
   "id": "2d168111",
   "metadata": {
    "tags": []
   },
   "outputs": [
    {
     "data": {
      "image/png": "[encoded data removed]",
      "text/plain": [
       "<Figure size 432x288 with 1 Axes>"
      ]
     },
     "metadata": {
      "needs_background": "light"
     },
     "output_type": "display_data"
    }
   ],
   "source": [
    "xs = np.array(list(range(1, 20)))\n",
    "ys = [i**3 + 5 for i in xs] + np.random.normal(0, 500, xs.shape)\n",
    "plt.plot(xs, ys)\n",
    "plt.show()\n",
    "\n",
    "x_norm = Normalizer()\n",
    "x_norm.learn(xs)\n",
    "y_norm = Normalizer()\n",
    "y_norm.learn(ys)\n",
    "\n",
    "n_xs = x_norm.to_norm(xs)\n",
    "n_ys = y_norm.to_norm(ys)"
   ]
  },
  {
   "cell_type": "code",
   "execution_count": 25,
   "id": "9ea1a498-7f34-45a9-84af-6c2940dee2b8",
   "metadata": {
    "tags": []
   },
   "outputs": [
    {
     "data": {
      "image/png": "[encoded data removed]",
      "text/plain": [
       "<Figure size 432x288 with 1 Axes>"
      ]
     },
     "metadata": {
      "needs_background": "light"
     },
     "output_type": "display_data"
    }
   ],
   "source": [
    "m.reset()\n",
    "m.learn(n_xs, n_ys, iterations=10000, learning_rate=.01, regularization=0.0001)\n",
    "\n",
    "# plot predictions\n",
    "predictions = y_norm.from_norm(m.predict(n_xs))\n",
    "plt.plot(xs, ys)\n",
    "plt.plot(xs, predictions)\n",
    "plt.show()"
   ]
  },
  {
   "cell_type": "code",
   "execution_count": 26,
   "id": "9201c613",
   "metadata": {
    "tags": []
   },
   "outputs": [
    {
     "data": {
      "image/svg+xml": [
       "<?xml version=\"1.0\" encoding=\"UTF-8\" standalone=\"no\"?>\n",
       "<!DOCTYPE svg PUBLIC \"-//W3C//DTD SVG 1.1//EN\"\n",
       " \"http://www.w3.org/Graphics/SVG/1.1/DTD/svg11.dtd\">\n",
       "<!-- Generated by graphviz version 2.43.0 (0)\n",
       " -->\n",
       "<!-- Title: %3 Pages: 1 -->\n",
       "<svg width=\"78pt\" height=\"188pt\"\n",
       " viewBox=\"0.00 0.00 78.19 188.00\" xmlns=\"http://www.w3.org/2000/svg\" xmlns:xlink=\"http://www.w3.org/1999/xlink\">\n",
       "<g id=\"graph0\" class=\"graph\" transform=\"scale(1 1) rotate(0) translate(4 184)\">\n",
       "<title>%3</title>\n",
       "<polygon fill=\"white\" stroke=\"transparent\" points=\"-4,4 -4,-184 74.19,-184 74.19,4 -4,4\"/>\n",
       "<!-- h2 -->\n",
       "<g id=\"node1\" class=\"node\">\n",
       "<title>h2</title>\n",
       "<ellipse fill=\"none\" stroke=\"black\" cx=\"35.1\" cy=\"-18\" rx=\"27\" ry=\"18\"/>\n",
       "<text text-anchor=\"middle\" x=\"35.1\" y=\"-14.3\" font-family=\"Times,serif\" font-size=\"14.00\">h2</text>\n",
       "</g>\n",
       "<!-- h1 -->\n",
       "<g id=\"node2\" class=\"node\">\n",
       "<title>h1</title>\n",
       "<ellipse fill=\"none\" stroke=\"black\" cx=\"35.1\" cy=\"-90\" rx=\"27\" ry=\"18\"/>\n",
       "<text text-anchor=\"middle\" x=\"35.1\" y=\"-86.3\" font-family=\"Times,serif\" font-size=\"14.00\">h1</text>\n",
       "</g>\n",
       "<!-- h1&#45;&gt;h2 -->\n",
       "<g id=\"edge1\" class=\"edge\">\n",
       "<title>h1&#45;&gt;h2</title>\n",
       "<path fill=\"none\" stroke=\"black\" d=\"M35.1,-71.7C35.1,-63.98 35.1,-54.71 35.1,-46.11\"/>\n",
       "<polygon fill=\"black\" stroke=\"black\" points=\"38.6,-46.1 35.1,-36.1 31.6,-46.1 38.6,-46.1\"/>\n",
       "</g>\n",
       "<!-- input -->\n",
       "<g id=\"node3\" class=\"node\">\n",
       "<title>input</title>\n",
       "<ellipse fill=\"none\" stroke=\"black\" cx=\"35.1\" cy=\"-162\" rx=\"35.19\" ry=\"18\"/>\n",
       "<text text-anchor=\"middle\" x=\"35.1\" y=\"-158.3\" font-family=\"Times,serif\" font-size=\"14.00\">input</text>\n",
       "</g>\n",
       "<!-- input&#45;&gt;h1 -->\n",
       "<g id=\"edge2\" class=\"edge\">\n",
       "<title>input&#45;&gt;h1</title>\n",
       "<path fill=\"none\" stroke=\"black\" d=\"M35.1,-143.7C35.1,-135.98 35.1,-126.71 35.1,-118.11\"/>\n",
       "<polygon fill=\"black\" stroke=\"black\" points=\"38.6,-118.1 35.1,-108.1 31.6,-118.1 38.6,-118.1\"/>\n",
       "</g>\n",
       "</g>\n",
       "</svg>\n"
      ],
      "text/plain": [
       "<graphviz.dot.Digraph at 0x7f13fc6025b0>"
      ]
     },
     "execution_count": 26,
     "metadata": {},
     "output_type": "execute_result"
    }
   ],
   "source": [
    "# Simple Linear Examples (2 Neuron)\n",
    "\n",
    "i = Input()\n",
    "h1 = HiddenLayer(\"h1\")\n",
    "h2 = HiddenLayer(\"h2\")\n",
    "loss = SquaredLoss()\n",
    "\n",
    "i >> h1\n",
    "h1 >> h2\n",
    "\n",
    "m = Model(i, h2, loss)\n",
    "m.dot()"
   ]
  },
  {
   "cell_type": "code",
   "execution_count": 27,
   "id": "72a14433-0890-43e2-afc2-93b42c2a406e",
   "metadata": {
    "tags": []
   },
   "outputs": [
    {
     "data": {
      "image/png": "[encoded data removed]",
      "text/plain": [
       "<Figure size 432x288 with 1 Axes>"
      ]
     },
     "metadata": {
      "needs_background": "light"
     },
     "output_type": "display_data"
    }
   ],
   "source": [
    "m.reset()\n",
    "m.learn(n_xs, n_ys, iterations=10000, learning_rate=.01, regularization=0.0)\n",
    "\n",
    "# plot predictions\n",
    "predictions = y_norm.from_norm(m.predict(n_xs))\n",
    "plt.plot(xs, ys)\n",
    "plt.plot(xs, predictions)\n",
    "plt.show()"
   ]
  },
  {
   "cell_type": "code",
   "execution_count": 28,
   "id": "0c71e35d",
   "metadata": {
    "tags": []
   },
   "outputs": [
    {
     "data": {
      "image/svg+xml": [
       "<?xml version=\"1.0\" encoding=\"UTF-8\" standalone=\"no\"?>\n",
       "<!DOCTYPE svg PUBLIC \"-//W3C//DTD SVG 1.1//EN\"\n",
       " \"http://www.w3.org/Graphics/SVG/1.1/DTD/svg11.dtd\">\n",
       "<!-- Generated by graphviz version 2.43.0 (0)\n",
       " -->\n",
       "<!-- Title: %3 Pages: 1 -->\n",
       "<svg width=\"78pt\" height=\"260pt\"\n",
       " viewBox=\"0.00 0.00 78.19 260.00\" xmlns=\"http://www.w3.org/2000/svg\" xmlns:xlink=\"http://www.w3.org/1999/xlink\">\n",
       "<g id=\"graph0\" class=\"graph\" transform=\"scale(1 1) rotate(0) translate(4 256)\">\n",
       "<title>%3</title>\n",
       "<polygon fill=\"white\" stroke=\"transparent\" points=\"-4,4 -4,-256 74.19,-256 74.19,4 -4,4\"/>\n",
       "<!-- h2 -->\n",
       "<g id=\"node1\" class=\"node\">\n",
       "<title>h2</title>\n",
       "<ellipse fill=\"none\" stroke=\"black\" cx=\"35.1\" cy=\"-18\" rx=\"27\" ry=\"18\"/>\n",
       "<text text-anchor=\"middle\" x=\"35.1\" y=\"-14.3\" font-family=\"Times,serif\" font-size=\"14.00\">h2</text>\n",
       "</g>\n",
       "<!-- tanh -->\n",
       "<g id=\"node2\" class=\"node\">\n",
       "<title>tanh</title>\n",
       "<ellipse fill=\"none\" stroke=\"black\" cx=\"35.1\" cy=\"-90\" rx=\"31.7\" ry=\"18\"/>\n",
       "<text text-anchor=\"middle\" x=\"35.1\" y=\"-86.3\" font-family=\"Times,serif\" font-size=\"14.00\">tanh</text>\n",
       "</g>\n",
       "<!-- tanh&#45;&gt;h2 -->\n",
       "<g id=\"edge1\" class=\"edge\">\n",
       "<title>tanh&#45;&gt;h2</title>\n",
       "<path fill=\"none\" stroke=\"black\" d=\"M35.1,-71.7C35.1,-63.98 35.1,-54.71 35.1,-46.11\"/>\n",
       "<polygon fill=\"black\" stroke=\"black\" points=\"38.6,-46.1 35.1,-36.1 31.6,-46.1 38.6,-46.1\"/>\n",
       "</g>\n",
       "<!-- h1 -->\n",
       "<g id=\"node3\" class=\"node\">\n",
       "<title>h1</title>\n",
       "<ellipse fill=\"none\" stroke=\"black\" cx=\"35.1\" cy=\"-162\" rx=\"27\" ry=\"18\"/>\n",
       "<text text-anchor=\"middle\" x=\"35.1\" y=\"-158.3\" font-family=\"Times,serif\" font-size=\"14.00\">h1</text>\n",
       "</g>\n",
       "<!-- h1&#45;&gt;tanh -->\n",
       "<g id=\"edge2\" class=\"edge\">\n",
       "<title>h1&#45;&gt;tanh</title>\n",
       "<path fill=\"none\" stroke=\"black\" d=\"M35.1,-143.7C35.1,-135.98 35.1,-126.71 35.1,-118.11\"/>\n",
       "<polygon fill=\"black\" stroke=\"black\" points=\"38.6,-118.1 35.1,-108.1 31.6,-118.1 38.6,-118.1\"/>\n",
       "</g>\n",
       "<!-- input -->\n",
       "<g id=\"node4\" class=\"node\">\n",
       "<title>input</title>\n",
       "<ellipse fill=\"none\" stroke=\"black\" cx=\"35.1\" cy=\"-234\" rx=\"35.19\" ry=\"18\"/>\n",
       "<text text-anchor=\"middle\" x=\"35.1\" y=\"-230.3\" font-family=\"Times,serif\" font-size=\"14.00\">input</text>\n",
       "</g>\n",
       "<!-- input&#45;&gt;h1 -->\n",
       "<g id=\"edge3\" class=\"edge\">\n",
       "<title>input&#45;&gt;h1</title>\n",
       "<path fill=\"none\" stroke=\"black\" d=\"M35.1,-215.7C35.1,-207.98 35.1,-198.71 35.1,-190.11\"/>\n",
       "<polygon fill=\"black\" stroke=\"black\" points=\"38.6,-190.1 35.1,-180.1 31.6,-190.1 38.6,-190.1\"/>\n",
       "</g>\n",
       "</g>\n",
       "</svg>\n"
      ],
      "text/plain": [
       "<graphviz.dot.Digraph at 0x7f13fc465f40>"
      ]
     },
     "execution_count": 28,
     "metadata": {},
     "output_type": "execute_result"
    }
   ],
   "source": [
    "# Simple Linear Examples (2 Neuron + non-linearity)\n",
    "                        \n",
    "class TanHLayer(Neuron):\n",
    "    def __init__(self, name: str = \"tanh\"):\n",
    "        super().__init__(name)\n",
    "        \n",
    "    def forward_pass(self, state: ForwardPassState) -> float:\n",
    "        input_val = state.activations[self._inputs[0]]\n",
    "        return np.tanh(input_val)\n",
    "            \n",
    "    def backwards_pass(self, state: BackwardsPassState, f_state: ForwardPassState) -> None:\n",
    "        incomming_loss = state.losses[self]\n",
    "        input_val = f_state.activations[self._inputs[0]]\n",
    "        state.losses[self._inputs[0]] = incomming_loss * (1 - (np.tanh(input_val) ** 2))\n",
    "        \n",
    "\n",
    "i = Input()\n",
    "h1 = HiddenLayer(\"h1\")\n",
    "a1 = TanHLayer()\n",
    "h2 = HiddenLayer(\"h2\")\n",
    "loss = SquaredLoss()\n",
    "\n",
    "i >> h1\n",
    "h1 >> a1\n",
    "a1 >> h2\n",
    "\n",
    "\n",
    "m = Model(i, h2, loss)\n",
    "m.dot()"
   ]
  },
  {
   "cell_type": "code",
   "execution_count": 29,
   "id": "5d68d506-6515-4492-9b8c-071137b2b11d",
   "metadata": {
    "tags": []
   },
   "outputs": [
    {
     "data": {
      "image/png": "[encoded data removed]",
      "text/plain": [
       "<Figure size 432x288 with 1 Axes>"
      ]
     },
     "metadata": {
      "needs_background": "light"
     },
     "output_type": "display_data"
    }
   ],
   "source": [
    "m.reset()\n",
    "m.learn(n_xs, n_ys, iterations=50000, learning_rate=.01, regularization=0.0)\n",
    "\n",
    "# plot predictions\n",
    "predictions = y_norm.from_norm(m.predict(n_xs))\n",
    "plt.plot(xs, ys)\n",
    "plt.plot(xs, predictions)\n",
    "plt.show()"
   ]
  },
  {
   "cell_type": "code",
   "execution_count": 30,
   "id": "d59fd3df",
   "metadata": {
    "tags": []
   },
   "outputs": [
    {
     "data": {
      "image/png": "[encoded data removed]",
      "text/plain": [
       "<Figure size 432x288 with 1 Axes>"
      ]
     },
     "metadata": {
      "needs_background": "light"
     },
     "output_type": "display_data"
    }
   ],
   "source": [
    "xs = np.array([i/15. for i in range(0, 100)])\n",
    "ys = [math.sin(i) + 1/(i+1) for i in xs] + np.random.normal(0, .1, xs.shape)\n",
    "plt.plot(xs, ys)\n",
    "plt.show()\n",
    "\n",
    "x_norm = Normalizer()\n",
    "x_norm.learn(xs)\n",
    "y_norm = Normalizer()\n",
    "y_norm.learn(ys)\n",
    "\n",
    "n_xs = x_norm.to_norm(xs)\n",
    "n_ys = y_norm.to_norm(ys)"
   ]
  },
  {
   "cell_type": "code",
   "execution_count": 31,
   "id": "d4bf3590-8fe8-4dd6-9881-bdbb6b261f00",
   "metadata": {
    "tags": []
   },
   "outputs": [
    {
     "data": {
      "image/png": "[encoded data removed]",
      "text/plain": [
       "<Figure size 432x288 with 1 Axes>"
      ]
     },
     "metadata": {
      "needs_background": "light"
     },
     "output_type": "display_data"
    }
   ],
   "source": [
    "m.reset()\n",
    "m.learn(n_xs, n_ys, iterations=50000, learning_rate=.01, regularization=0.0)\n",
    "\n",
    "# plot predictions\n",
    "predictions = y_norm.from_norm(m.predict(n_xs))\n",
    "plt.plot(xs, ys)\n",
    "\n",
    "plt.plot(xs, predictions)\n",
    "plt.show()"
   ]
  },
  {
   "cell_type": "code",
   "execution_count": 32,
   "id": "247e022b",
   "metadata": {
    "tags": []
   },
   "outputs": [
    {
     "data": {
      "image/svg+xml": [
       "<?xml version=\"1.0\" encoding=\"UTF-8\" standalone=\"no\"?>\n",
       "<!DOCTYPE svg PUBLIC \"-//W3C//DTD SVG 1.1//EN\"\n",
       " \"http://www.w3.org/Graphics/SVG/1.1/DTD/svg11.dtd\">\n",
       "<!-- Generated by graphviz version 2.43.0 (0)\n",
       " -->\n",
       "<!-- Title: %3 Pages: 1 -->\n",
       "<svg width=\"302pt\" height=\"476pt\"\n",
       " viewBox=\"0.00 0.00 301.79 476.00\" xmlns=\"http://www.w3.org/2000/svg\" xmlns:xlink=\"http://www.w3.org/1999/xlink\">\n",
       "<g id=\"graph0\" class=\"graph\" transform=\"scale(1 1) rotate(0) translate(4 472)\">\n",
       "<title>%3</title>\n",
       "<polygon fill=\"white\" stroke=\"transparent\" points=\"-4,4 -4,-472 297.79,-472 297.79,4 -4,4\"/>\n",
       "<!-- L4_hidden_1 -->\n",
       "<g id=\"node1\" class=\"node\">\n",
       "<title>L4_hidden_1</title>\n",
       "<ellipse fill=\"none\" stroke=\"black\" cx=\"146.89\" cy=\"-18\" rx=\"68.79\" ry=\"18\"/>\n",
       "<text text-anchor=\"middle\" x=\"146.89\" y=\"-14.3\" font-family=\"Times,serif\" font-size=\"14.00\">L4_hidden_1</text>\n",
       "</g>\n",
       "<!-- L3_tanh_2 -->\n",
       "<g id=\"node2\" class=\"node\">\n",
       "<title>L3_tanh_2</title>\n",
       "<ellipse fill=\"none\" stroke=\"black\" cx=\"79.89\" cy=\"-90\" rx=\"57.69\" ry=\"18\"/>\n",
       "<text text-anchor=\"middle\" x=\"79.89\" y=\"-86.3\" font-family=\"Times,serif\" font-size=\"14.00\">L3_tanh_2</text>\n",
       "</g>\n",
       "<!-- L3_tanh_2&#45;&gt;L4_hidden_1 -->\n",
       "<g id=\"edge1\" class=\"edge\">\n",
       "<title>L3_tanh_2&#45;&gt;L4_hidden_1</title>\n",
       "<path fill=\"none\" stroke=\"black\" d=\"M95.77,-72.41C104.08,-63.73 114.4,-52.95 123.6,-43.34\"/>\n",
       "<polygon fill=\"black\" stroke=\"black\" points=\"126.28,-45.6 130.66,-35.96 121.22,-40.76 126.28,-45.6\"/>\n",
       "</g>\n",
       "<!-- L3_tanh_1 -->\n",
       "<g id=\"node3\" class=\"node\">\n",
       "<title>L3_tanh_1</title>\n",
       "<ellipse fill=\"none\" stroke=\"black\" cx=\"218.89\" cy=\"-90\" rx=\"57.69\" ry=\"18\"/>\n",
       "<text text-anchor=\"middle\" x=\"218.89\" y=\"-86.3\" font-family=\"Times,serif\" font-size=\"14.00\">L3_tanh_1</text>\n",
       "</g>\n",
       "<!-- L3_tanh_1&#45;&gt;L4_hidden_1 -->\n",
       "<g id=\"edge2\" class=\"edge\">\n",
       "<title>L3_tanh_1&#45;&gt;L4_hidden_1</title>\n",
       "<path fill=\"none\" stroke=\"black\" d=\"M202.19,-72.76C193.06,-63.88 181.57,-52.71 171.43,-42.85\"/>\n",
       "<polygon fill=\"black\" stroke=\"black\" points=\"173.61,-40.09 164,-35.63 168.73,-45.11 173.61,-40.09\"/>\n",
       "</g>\n",
       "<!-- L3_hidden_2 -->\n",
       "<g id=\"node4\" class=\"node\">\n",
       "<title>L3_hidden_2</title>\n",
       "<ellipse fill=\"none\" stroke=\"black\" cx=\"68.89\" cy=\"-162\" rx=\"68.79\" ry=\"18\"/>\n",
       "<text text-anchor=\"middle\" x=\"68.89\" y=\"-158.3\" font-family=\"Times,serif\" font-size=\"14.00\">L3_hidden_2</text>\n",
       "</g>\n",
       "<!-- L3_hidden_2&#45;&gt;L3_tanh_2 -->\n",
       "<g id=\"edge3\" class=\"edge\">\n",
       "<title>L3_hidden_2&#45;&gt;L3_tanh_2</title>\n",
       "<path fill=\"none\" stroke=\"black\" d=\"M71.61,-143.7C72.83,-135.98 74.28,-126.71 75.63,-118.11\"/>\n",
       "<polygon fill=\"black\" stroke=\"black\" points=\"79.11,-118.53 77.21,-108.1 72.2,-117.44 79.11,-118.53\"/>\n",
       "</g>\n",
       "<!-- L3_hidden_1 -->\n",
       "<g id=\"node5\" class=\"node\">\n",
       "<title>L3_hidden_1</title>\n",
       "<ellipse fill=\"none\" stroke=\"black\" cx=\"224.89\" cy=\"-162\" rx=\"68.79\" ry=\"18\"/>\n",
       "<text text-anchor=\"middle\" x=\"224.89\" y=\"-158.3\" font-family=\"Times,serif\" font-size=\"14.00\">L3_hidden_1</text>\n",
       "</g>\n",
       "<!-- L3_hidden_1&#45;&gt;L3_tanh_1 -->\n",
       "<g id=\"edge4\" class=\"edge\">\n",
       "<title>L3_hidden_1&#45;&gt;L3_tanh_1</title>\n",
       "<path fill=\"none\" stroke=\"black\" d=\"M223.41,-143.7C222.75,-135.98 221.95,-126.71 221.22,-118.11\"/>\n",
       "<polygon fill=\"black\" stroke=\"black\" points=\"224.7,-117.77 220.36,-108.1 217.73,-118.37 224.7,-117.77\"/>\n",
       "</g>\n",
       "<!-- L2_tanh_2 -->\n",
       "<g id=\"node6\" class=\"node\">\n",
       "<title>L2_tanh_2</title>\n",
       "<ellipse fill=\"none\" stroke=\"black\" cx=\"68.89\" cy=\"-234\" rx=\"57.69\" ry=\"18\"/>\n",
       "<text text-anchor=\"middle\" x=\"68.89\" y=\"-230.3\" font-family=\"Times,serif\" font-size=\"14.00\">L2_tanh_2</text>\n",
       "</g>\n",
       "<!-- L2_tanh_2&#45;&gt;L3_hidden_2 -->\n",
       "<g id=\"edge6\" class=\"edge\">\n",
       "<title>L2_tanh_2&#45;&gt;L3_hidden_2</title>\n",
       "<path fill=\"none\" stroke=\"black\" d=\"M68.89,-215.7C68.89,-207.98 68.89,-198.71 68.89,-190.11\"/>\n",
       "<polygon fill=\"black\" stroke=\"black\" points=\"72.39,-190.1 68.89,-180.1 65.39,-190.1 72.39,-190.1\"/>\n",
       "</g>\n",
       "<!-- L2_tanh_2&#45;&gt;L3_hidden_1 -->\n",
       "<g id=\"edge5\" class=\"edge\">\n",
       "<title>L2_tanh_2&#45;&gt;L3_hidden_1</title>\n",
       "<path fill=\"none\" stroke=\"black\" d=\"M100.46,-218.83C124.09,-208.23 156.66,-193.62 182.55,-182\"/>\n",
       "<polygon fill=\"black\" stroke=\"black\" points=\"184.07,-185.16 191.76,-177.87 181.2,-178.77 184.07,-185.16\"/>\n",
       "</g>\n",
       "<!-- L2_tanh_1 -->\n",
       "<g id=\"node7\" class=\"node\">\n",
       "<title>L2_tanh_1</title>\n",
       "<ellipse fill=\"none\" stroke=\"black\" cx=\"224.89\" cy=\"-234\" rx=\"57.69\" ry=\"18\"/>\n",
       "<text text-anchor=\"middle\" x=\"224.89\" y=\"-230.3\" font-family=\"Times,serif\" font-size=\"14.00\">L2_tanh_1</text>\n",
       "</g>\n",
       "<!-- L2_tanh_1&#45;&gt;L3_hidden_2 -->\n",
       "<g id=\"edge8\" class=\"edge\">\n",
       "<title>L2_tanh_1&#45;&gt;L3_hidden_2</title>\n",
       "<path fill=\"none\" stroke=\"black\" d=\"M193.32,-218.83C169.7,-208.23 137.13,-193.62 111.24,-182\"/>\n",
       "<polygon fill=\"black\" stroke=\"black\" points=\"112.59,-178.77 102.03,-177.87 109.72,-185.16 112.59,-178.77\"/>\n",
       "</g>\n",
       "<!-- L2_tanh_1&#45;&gt;L3_hidden_1 -->\n",
       "<g id=\"edge7\" class=\"edge\">\n",
       "<title>L2_tanh_1&#45;&gt;L3_hidden_1</title>\n",
       "<path fill=\"none\" stroke=\"black\" d=\"M224.89,-215.7C224.89,-207.98 224.89,-198.71 224.89,-190.11\"/>\n",
       "<polygon fill=\"black\" stroke=\"black\" points=\"228.39,-190.1 224.89,-180.1 221.39,-190.1 228.39,-190.1\"/>\n",
       "</g>\n",
       "<!-- L2_hidden_2 -->\n",
       "<g id=\"node8\" class=\"node\">\n",
       "<title>L2_hidden_2</title>\n",
       "<ellipse fill=\"none\" stroke=\"black\" cx=\"68.89\" cy=\"-306\" rx=\"68.79\" ry=\"18\"/>\n",
       "<text text-anchor=\"middle\" x=\"68.89\" y=\"-302.3\" font-family=\"Times,serif\" font-size=\"14.00\">L2_hidden_2</text>\n",
       "</g>\n",
       "<!-- L2_hidden_2&#45;&gt;L2_tanh_2 -->\n",
       "<g id=\"edge9\" class=\"edge\">\n",
       "<title>L2_hidden_2&#45;&gt;L2_tanh_2</title>\n",
       "<path fill=\"none\" stroke=\"black\" d=\"M68.89,-287.7C68.89,-279.98 68.89,-270.71 68.89,-262.11\"/>\n",
       "<polygon fill=\"black\" stroke=\"black\" points=\"72.39,-262.1 68.89,-252.1 65.39,-262.1 72.39,-262.1\"/>\n",
       "</g>\n",
       "<!-- L2_hidden_1 -->\n",
       "<g id=\"node9\" class=\"node\">\n",
       "<title>L2_hidden_1</title>\n",
       "<ellipse fill=\"none\" stroke=\"black\" cx=\"224.89\" cy=\"-306\" rx=\"68.79\" ry=\"18\"/>\n",
       "<text text-anchor=\"middle\" x=\"224.89\" y=\"-302.3\" font-family=\"Times,serif\" font-size=\"14.00\">L2_hidden_1</text>\n",
       "</g>\n",
       "<!-- L2_hidden_1&#45;&gt;L2_tanh_1 -->\n",
       "<g id=\"edge10\" class=\"edge\">\n",
       "<title>L2_hidden_1&#45;&gt;L2_tanh_1</title>\n",
       "<path fill=\"none\" stroke=\"black\" d=\"M224.89,-287.7C224.89,-279.98 224.89,-270.71 224.89,-262.11\"/>\n",
       "<polygon fill=\"black\" stroke=\"black\" points=\"228.39,-262.1 224.89,-252.1 221.39,-262.1 228.39,-262.1\"/>\n",
       "</g>\n",
       "<!-- L1_hidden_1 -->\n",
       "<g id=\"node10\" class=\"node\">\n",
       "<title>L1_hidden_1</title>\n",
       "<ellipse fill=\"none\" stroke=\"black\" cx=\"146.89\" cy=\"-378\" rx=\"68.79\" ry=\"18\"/>\n",
       "<text text-anchor=\"middle\" x=\"146.89\" y=\"-374.3\" font-family=\"Times,serif\" font-size=\"14.00\">L1_hidden_1</text>\n",
       "</g>\n",
       "<!-- L1_hidden_1&#45;&gt;L2_hidden_2 -->\n",
       "<g id=\"edge12\" class=\"edge\">\n",
       "<title>L1_hidden_1&#45;&gt;L2_hidden_2</title>\n",
       "<path fill=\"none\" stroke=\"black\" d=\"M128.41,-360.41C118.4,-351.43 105.88,-340.19 94.91,-330.34\"/>\n",
       "<polygon fill=\"black\" stroke=\"black\" points=\"97.03,-327.54 87.25,-323.47 92.35,-332.75 97.03,-327.54\"/>\n",
       "</g>\n",
       "<!-- L1_hidden_1&#45;&gt;L2_hidden_1 -->\n",
       "<g id=\"edge11\" class=\"edge\">\n",
       "<title>L1_hidden_1&#45;&gt;L2_hidden_1</title>\n",
       "<path fill=\"none\" stroke=\"black\" d=\"M165.38,-360.41C175.38,-351.43 187.91,-340.19 198.88,-330.34\"/>\n",
       "<polygon fill=\"black\" stroke=\"black\" points=\"201.44,-332.75 206.54,-323.47 196.76,-327.54 201.44,-332.75\"/>\n",
       "</g>\n",
       "<!-- input -->\n",
       "<g id=\"node11\" class=\"node\">\n",
       "<title>input</title>\n",
       "<ellipse fill=\"none\" stroke=\"black\" cx=\"146.89\" cy=\"-450\" rx=\"35.19\" ry=\"18\"/>\n",
       "<text text-anchor=\"middle\" x=\"146.89\" y=\"-446.3\" font-family=\"Times,serif\" font-size=\"14.00\">input</text>\n",
       "</g>\n",
       "<!-- input&#45;&gt;L1_hidden_1 -->\n",
       "<g id=\"edge13\" class=\"edge\">\n",
       "<title>input&#45;&gt;L1_hidden_1</title>\n",
       "<path fill=\"none\" stroke=\"black\" d=\"M146.89,-431.7C146.89,-423.98 146.89,-414.71 146.89,-406.11\"/>\n",
       "<polygon fill=\"black\" stroke=\"black\" points=\"150.39,-406.1 146.89,-396.1 143.39,-406.1 150.39,-406.1\"/>\n",
       "</g>\n",
       "</g>\n",
       "</svg>\n"
      ],
      "text/plain": [
       "<graphviz.dot.Digraph at 0x7f13fc3cb820>"
      ]
     },
     "execution_count": 32,
     "metadata": {},
     "output_type": "execute_result"
    }
   ],
   "source": [
    "# A more complicated network\n",
    "\n",
    "            \n",
    "i = Input()\n",
    "\n",
    "\n",
    "def create_layer(name: str, neurons: int, activation=True):\n",
    "    inputs = list()\n",
    "    outputs = list()\n",
    "    for n in range(neurons):\n",
    "        h = HiddenLayer(f\"{name}_hidden_{n+1}\")\n",
    "        if activation:\n",
    "            activation_layer = TanHLayer(f\"{name}_tanh_{n+1}\")\n",
    "            h >> activation_layer\n",
    "            outputs.append(activation_layer)\n",
    "        else:\n",
    "            outputs.append(h)\n",
    "        inputs.append(h)\n",
    "    return inputs, outputs\n",
    "\n",
    "\n",
    "def connect(a, b):\n",
    "    for aa in a:\n",
    "        for bb in b:\n",
    "            aa >> bb\n",
    "\n",
    "            \n",
    "l1_in, l1_out = create_layer(\"L1\", 1, activation=False)\n",
    "l2_in, l2_out = create_layer(\"L2\", 2)\n",
    "l3_in, l3_out = create_layer(\"L3\", 2)\n",
    "l4_in, l4_out = create_layer(\"L4\", 1, activation=False)\n",
    "\n",
    "connect([i], l1_in)\n",
    "connect(l1_out, l2_in)\n",
    "connect(l2_out, l3_in)\n",
    "connect(l3_out, l4_in)\n",
    "\n",
    "loss = SquaredLoss()\n",
    "\n",
    "m = Model(i, l4_out[0], loss)\n",
    "m.dot()"
   ]
  },
  {
   "cell_type": "code",
   "execution_count": 33,
   "id": "4749830c-e745-4bb1-93f6-d660108d7d1e",
   "metadata": {
    "tags": []
   },
   "outputs": [
    {
     "data": {
      "image/png": "[encoded data removed]",
      "text/plain": [
       "<Figure size 432x288 with 1 Axes>"
      ]
     },
     "metadata": {
      "needs_background": "light"
     },
     "output_type": "display_data"
    }
   ],
   "source": [
    "m.reset()\n",
    "m.learn(n_xs, n_ys, iterations=50000, learning_rate=.01, regularization=0.0)\n",
    "\n",
    "# plot predictions\n",
    "predictions = y_norm.from_norm(m.predict(n_xs))\n",
    "plt.plot(xs, ys)\n",
    "plt.plot(xs, predictions)\n",
    "plt.show()"
   ]
  },
  {
   "cell_type": "code",
   "execution_count": null,
   "id": "62405c66",
   "metadata": {
    "collapsed": true,
    "jupyter": {
     "outputs_hidden": true
    }
   },
   "outputs": [],
   "source": []
  }
 ],
 "metadata": {
  "kernelspec": {
   "display_name": "Python 3 (ipykernel)",
   "language": "python",
   "name": "python3"
  },
  "language_info": {
   "codemirror_mode": {
    "name": "ipython",
    "version": 3
   },
   "file_extension": ".py",
   "mimetype": "text/x-python",
   "name": "python",
   "nbconvert_exporter": "python",
   "pygments_lexer": "ipython3",
   "version": "3.9.5"
  }
 },
 "nbformat": 4,
 "nbformat_minor": 5
}
